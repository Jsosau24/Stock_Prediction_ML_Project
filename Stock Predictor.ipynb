{
 "cells": [
  {
   "attachments": {},
   "cell_type": "markdown",
   "metadata": {},
   "source": [
    "Jonathan Sosa  \n",
    "\n",
    "Jun - July 2023\n",
    "\n",
    "Stock Predictor\n"
   ]
  },
  {
   "cell_type": "code",
   "execution_count": 2,
   "metadata": {},
   "outputs": [],
   "source": [
    "# Imports\n",
    "import pandas as pd\n",
    "import matplotlib as plot\n",
    "import yfinance as yf"
   ]
  },
  {
   "attachments": {},
   "cell_type": "markdown",
   "metadata": {},
   "source": [
    "Fetch data from Yahoo Fiance from different stocks"
   ]
  },
  {
   "cell_type": "code",
   "execution_count": 10,
   "metadata": {},
   "outputs": [
    {
     "name": "stdout",
     "output_type": "stream",
     "text": [
      "[*********************100%***********************]  1 of 1 completed\n",
      "[*********************100%***********************]  1 of 1 completed\n",
      "[*********************100%***********************]  1 of 1 completed\n",
      "[*********************100%***********************]  1 of 1 completed\n",
      "[*********************100%***********************]  1 of 1 completed\n"
     ]
    }
   ],
   "source": [
    "apple_dta = yf.download('AAPL', start='2010-01-01', end='2023-05-01')\n",
    "meta_dta = yf.download('META', start='2010-01-01', end='2023-05-01')\n",
    "nike_dta = yf.download('NKE', start='2010-01-01', end='2023-05-01')\n",
    "smp500_dta = yf.download('^GSPC', start='2010-01-01', end='2023-05-01')\n",
    "vanguard_dta = yf.download('VOO', start='2010-01-01', end='2023-05-01')"
   ]
  },
  {
   "cell_type": "code",
   "execution_count": 11,
   "metadata": {},
   "outputs": [
    {
     "name": "stdout",
     "output_type": "stream",
     "text": [
      "                Open      High       Low     Close  Adj Close     Volume\n",
      "Date                                                                    \n",
      "2010-01-04  7.622500  7.660714  7.585000  7.643214   6.496295  493729600\n",
      "2010-01-05  7.664286  7.699643  7.616071  7.656429   6.507524  601904800\n",
      "2010-01-06  7.656429  7.686786  7.526786  7.534643   6.404016  552160000\n",
      "2010-01-07  7.562500  7.571429  7.466071  7.520714   6.392176  477131200\n",
      "2010-01-08  7.510714  7.571429  7.466429  7.570714   6.434674  447610800\n",
      "                 Open       High        Low      Close  Adj Close     Volume\n",
      "Date                                                                        \n",
      "2012-05-18  42.049999  45.000000  38.000000  38.230000  38.230000  573576400\n",
      "2012-05-21  36.529999  36.660000  33.000000  34.029999  34.029999  168192700\n",
      "2012-05-22  32.610001  33.590000  30.940001  31.000000  31.000000  101786600\n",
      "2012-05-23  31.370001  32.500000  31.360001  32.000000  32.000000   73600000\n",
      "2012-05-24  32.950001  33.209999  31.770000  33.029999  33.029999   50237200\n",
      "                 Open       High        Low    Close  Adj Close    Volume\n",
      "Date                                                                     \n",
      "2010-01-04  16.514999  16.517500  16.280001  16.3375  13.903898  11972400\n",
      "2010-01-05  16.285000  16.447500  16.174999  16.4025  13.959219   6275200\n",
      "2010-01-06  16.350000  16.422501  16.235001  16.3025  13.874116  13399200\n",
      "2010-01-07  16.280001  16.500000  16.262501  16.4625  14.010278   7187600\n",
      "2010-01-08  16.447500  16.462500  16.235001  16.4300  13.982622   7249600\n",
      "                   Open         High          Low        Close    Adj Close  \\\n",
      "Date                                                                          \n",
      "2010-01-04  1116.560059  1133.869995  1116.560059  1132.989990  1132.989990   \n",
      "2010-01-05  1132.660034  1136.630005  1129.660034  1136.520020  1136.520020   \n",
      "2010-01-06  1135.709961  1139.189941  1133.949951  1137.140015  1137.140015   \n",
      "2010-01-07  1136.270020  1142.459961  1131.319946  1141.689941  1141.689941   \n",
      "2010-01-08  1140.520020  1145.390015  1136.219971  1144.979980  1144.979980   \n",
      "\n",
      "                Volume  \n",
      "Date                    \n",
      "2010-01-04  3991400000  \n",
      "2010-01-05  2491020000  \n",
      "2010-01-06  4972660000  \n",
      "2010-01-07  5270680000  \n",
      "2010-01-08  4389590000  \n",
      "                  Open        High         Low       Close  Adj Close  Volume\n",
      "Date                                                                         \n",
      "2010-09-09  102.500000  102.500000  101.139999  101.320000  79.369980   26500\n",
      "2010-09-10  101.680000  101.860001  101.300003  101.779999  79.730339    8600\n",
      "2010-09-13  102.959999  103.139999  102.500000  103.059998  80.733009   33750\n",
      "2010-09-14  102.839996  103.480003  102.379997  103.040001  80.717339   59400\n",
      "2010-09-15  102.620003  103.379997  102.400002  103.300003  80.921043    9250\n"
     ]
    }
   ],
   "source": [
    "print(apple_dta.head())\n",
    "print(meta_dta.head())\n",
    "print(nike_dta.head())\n",
    "print(smp500_dta.head())\n",
    "print(vanguard_dta.head())"
   ]
  },
  {
   "cell_type": "markdown",
   "metadata": {},
   "source": []
  }
 ],
 "metadata": {
  "kernelspec": {
   "display_name": "Python 3",
   "language": "python",
   "name": "python3"
  },
  "language_info": {
   "codemirror_mode": {
    "name": "ipython",
    "version": 3
   },
   "file_extension": ".py",
   "mimetype": "text/x-python",
   "name": "python",
   "nbconvert_exporter": "python",
   "pygments_lexer": "ipython3",
   "version": "3.10.6"
  },
  "orig_nbformat": 4
 },
 "nbformat": 4,
 "nbformat_minor": 2
}
