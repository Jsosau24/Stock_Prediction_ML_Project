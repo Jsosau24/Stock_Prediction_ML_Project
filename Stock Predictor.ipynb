{
 "cells": [
  {
   "attachments": {},
   "cell_type": "markdown",
   "metadata": {},
   "source": [
    "Jonathan Sosa  \n",
    "\n",
    "Jun - July 2023\n",
    "\n",
    "Stock Predictor\n"
   ]
  },
  {
   "cell_type": "code",
   "execution_count": 2,
   "metadata": {},
   "outputs": [],
   "source": [
    "# Imports\n",
    "import pandas as pd\n",
    "import matplotlib as plot\n",
    "import yfinance as yf"
   ]
  },
  {
   "attachments": {},
   "cell_type": "markdown",
   "metadata": {},
   "source": [
    "# DATA COLLECTION\n",
    "Fetch data from Yahoo Fiance from different stocks"
   ]
  },
  {
   "cell_type": "code",
   "execution_count": 10,
   "metadata": {},
   "outputs": [
    {
     "name": "stdout",
     "output_type": "stream",
     "text": [
      "[*********************100%***********************]  1 of 1 completed\n",
      "[*********************100%***********************]  1 of 1 completed\n",
      "[*********************100%***********************]  1 of 1 completed\n",
      "[*********************100%***********************]  1 of 1 completed\n",
      "[*********************100%***********************]  1 of 1 completed\n"
     ]
    }
   ],
   "source": [
    "apple_dta = yf.download('AAPL', start='2010-01-01', end='2023-05-01')\n",
    "meta_dta = yf.download('META', start='2010-01-01', end='2023-05-01')\n",
    "nike_dta = yf.download('NKE', start='2010-01-01', end='2023-05-01')\n",
    "smp500_dta = yf.download('^GSPC', start='2010-01-01', end='2023-05-01')\n",
    "vanguard_dta = yf.download('VOO', start='2010-01-01', end='2023-05-01')"
   ]
  },
  {
   "cell_type": "code",
   "execution_count": 12,
   "metadata": {},
   "outputs": [
    {
     "name": "stdout",
     "output_type": "stream",
     "text": [
      "                Open      High       Low     Close  Adj Close     Volume\n",
      "Date                                                                    \n",
      "2010-01-04  7.622500  7.660714  7.585000  7.643214   6.496295  493729600\n",
      "2010-01-05  7.664286  7.699643  7.616071  7.656429   6.507524  601904800\n",
      "2010-01-06  7.656429  7.686786  7.526786  7.534643   6.404016  552160000\n",
      "2010-01-07  7.562500  7.571429  7.466071  7.520714   6.392176  477131200\n",
      "2010-01-08  7.510714  7.571429  7.466429  7.570714   6.434674  447610800\n",
      "                 Open       High        Low      Close  Adj Close     Volume\n",
      "Date                                                                        \n",
      "2012-05-18  42.049999  45.000000  38.000000  38.230000  38.230000  573576400\n",
      "2012-05-21  36.529999  36.660000  33.000000  34.029999  34.029999  168192700\n",
      "2012-05-22  32.610001  33.590000  30.940001  31.000000  31.000000  101786600\n",
      "2012-05-23  31.370001  32.500000  31.360001  32.000000  32.000000   73600000\n",
      "2012-05-24  32.950001  33.209999  31.770000  33.029999  33.029999   50237200\n",
      "                 Open       High        Low    Close  Adj Close    Volume\n",
      "Date                                                                     \n",
      "2010-01-04  16.514999  16.517500  16.280001  16.3375  13.903898  11972400\n",
      "2010-01-05  16.285000  16.447500  16.174999  16.4025  13.959219   6275200\n",
      "2010-01-06  16.350000  16.422501  16.235001  16.3025  13.874116  13399200\n",
      "2010-01-07  16.280001  16.500000  16.262501  16.4625  14.010278   7187600\n",
      "2010-01-08  16.447500  16.462500  16.235001  16.4300  13.982622   7249600\n",
      "                   Open         High          Low        Close    Adj Close  \\\n",
      "Date                                                                          \n",
      "2010-01-04  1116.560059  1133.869995  1116.560059  1132.989990  1132.989990   \n",
      "2010-01-05  1132.660034  1136.630005  1129.660034  1136.520020  1136.520020   \n",
      "2010-01-06  1135.709961  1139.189941  1133.949951  1137.140015  1137.140015   \n",
      "2010-01-07  1136.270020  1142.459961  1131.319946  1141.689941  1141.689941   \n",
      "2010-01-08  1140.520020  1145.390015  1136.219971  1144.979980  1144.979980   \n",
      "\n",
      "                Volume  \n",
      "Date                    \n",
      "2010-01-04  3991400000  \n",
      "2010-01-05  2491020000  \n",
      "2010-01-06  4972660000  \n",
      "2010-01-07  5270680000  \n",
      "2010-01-08  4389590000  \n",
      "                  Open        High         Low       Close  Adj Close  Volume\n",
      "Date                                                                         \n",
      "2010-09-09  102.500000  102.500000  101.139999  101.320000  79.369980   26500\n",
      "2010-09-10  101.680000  101.860001  101.300003  101.779999  79.730339    8600\n",
      "2010-09-13  102.959999  103.139999  102.500000  103.059998  80.733009   33750\n",
      "2010-09-14  102.839996  103.480003  102.379997  103.040001  80.717339   59400\n",
      "2010-09-15  102.620003  103.379997  102.400002  103.300003  80.921043    9250\n"
     ]
    }
   ],
   "source": [
    "print(apple_dta.head())\n",
    "print(meta_dta.head())\n",
    "print(nike_dta.head())\n",
    "print(smp500_dta.head())\n",
    "print(vanguard_dta.head())\n",
    "\n",
    "dta = [apple_dta, meta_dta, nike_dta, smp500_dta, vanguard_dta]"
   ]
  },
  {
   "attachments": {},
   "cell_type": "markdown",
   "metadata": {},
   "source": [
    "# DATA PROCESSING\n",
    "handling missing values, converting data types, and creating new features"
   ]
  },
  {
   "cell_type": "code",
   "execution_count": 19,
   "metadata": {},
   "outputs": [
    {
     "name": "stdout",
     "output_type": "stream",
     "text": [
      "                Open      High       Low     Close  Adj Close     Volume  \\\n",
      "Date                                                                       \n",
      "2010-01-04  7.622500  7.660714  7.585000  7.643214   6.496295  493729600   \n",
      "2010-01-05  7.664286  7.699643  7.616071  7.656429   6.507524  601904800   \n",
      "2010-01-06  7.656429  7.686786  7.526786  7.534643   6.404016  552160000   \n",
      "2010-01-07  7.562500  7.571429  7.466071  7.520714   6.392176  477131200   \n",
      "2010-01-08  7.510714  7.571429  7.466429  7.570714   6.434674  447610800   \n",
      "\n",
      "            PrevClose  PriceChange  \n",
      "Date                                \n",
      "2010-01-04        NaN          NaN  \n",
      "2010-01-05   7.643214     0.013215  \n",
      "2010-01-06   7.656429    -0.121786  \n",
      "2010-01-07   7.534643    -0.013929  \n",
      "2010-01-08   7.520714     0.050000  \n",
      "                 Open       High        Low      Close  Adj Close     Volume  \\\n",
      "Date                                                                           \n",
      "2012-05-18  42.049999  45.000000  38.000000  38.230000  38.230000  573576400   \n",
      "2012-05-21  36.529999  36.660000  33.000000  34.029999  34.029999  168192700   \n",
      "2012-05-22  32.610001  33.590000  30.940001  31.000000  31.000000  101786600   \n",
      "2012-05-23  31.370001  32.500000  31.360001  32.000000  32.000000   73600000   \n",
      "2012-05-24  32.950001  33.209999  31.770000  33.029999  33.029999   50237200   \n",
      "\n",
      "            PrevClose  PriceChange  \n",
      "Date                                \n",
      "2012-05-18        NaN          NaN  \n",
      "2012-05-21  38.230000    -4.200001  \n",
      "2012-05-22  34.029999    -3.029999  \n",
      "2012-05-23  31.000000     1.000000  \n",
      "2012-05-24  32.000000     1.029999  \n",
      "                 Open       High        Low    Close  Adj Close    Volume  \\\n",
      "Date                                                                        \n",
      "2010-01-04  16.514999  16.517500  16.280001  16.3375  13.903898  11972400   \n",
      "2010-01-05  16.285000  16.447500  16.174999  16.4025  13.959219   6275200   \n",
      "2010-01-06  16.350000  16.422501  16.235001  16.3025  13.874116  13399200   \n",
      "2010-01-07  16.280001  16.500000  16.262501  16.4625  14.010278   7187600   \n",
      "2010-01-08  16.447500  16.462500  16.235001  16.4300  13.982622   7249600   \n",
      "\n",
      "            PrevClose  PriceChange  \n",
      "Date                                \n",
      "2010-01-04        NaN          NaN  \n",
      "2010-01-05    16.3375     0.065001  \n",
      "2010-01-06    16.4025    -0.100000  \n",
      "2010-01-07    16.3025     0.160000  \n",
      "2010-01-08    16.4625    -0.032499  \n",
      "                   Open         High          Low        Close    Adj Close  \\\n",
      "Date                                                                          \n",
      "2010-01-04  1116.560059  1133.869995  1116.560059  1132.989990  1132.989990   \n",
      "2010-01-05  1132.660034  1136.630005  1129.660034  1136.520020  1136.520020   \n",
      "2010-01-06  1135.709961  1139.189941  1133.949951  1137.140015  1137.140015   \n",
      "2010-01-07  1136.270020  1142.459961  1131.319946  1141.689941  1141.689941   \n",
      "2010-01-08  1140.520020  1145.390015  1136.219971  1144.979980  1144.979980   \n",
      "\n",
      "                Volume    PrevClose  PriceChange  \n",
      "Date                                              \n",
      "2010-01-04  3991400000          NaN          NaN  \n",
      "2010-01-05  2491020000  1132.989990     3.530029  \n",
      "2010-01-06  4972660000  1136.520020     0.619995  \n",
      "2010-01-07  5270680000  1137.140015     4.549927  \n",
      "2010-01-08  4389590000  1141.689941     3.290039  \n",
      "                  Open        High         Low       Close  Adj Close  Volume  \\\n",
      "Date                                                                            \n",
      "2010-09-09  102.500000  102.500000  101.139999  101.320000  79.369980   26500   \n",
      "2010-09-10  101.680000  101.860001  101.300003  101.779999  79.730339    8600   \n",
      "2010-09-13  102.959999  103.139999  102.500000  103.059998  80.733009   33750   \n",
      "2010-09-14  102.839996  103.480003  102.379997  103.040001  80.717339   59400   \n",
      "2010-09-15  102.620003  103.379997  102.400002  103.300003  80.921043    9250   \n",
      "\n",
      "             PrevClose  PriceChange  \n",
      "Date                                 \n",
      "2010-09-09         NaN          NaN  \n",
      "2010-09-10  101.320000     0.459999  \n",
      "2010-09-13  101.779999     1.279999  \n",
      "2010-09-14  103.059998    -0.019997  \n",
      "2010-09-15  103.040001     0.260002  \n"
     ]
    }
   ],
   "source": [
    "for d in dta:\n",
    "    # Add a feature for the previous day's close price\n",
    "    d['PrevClose'] = d['Close'].shift(1)\n",
    "\n",
    "    # Add a feature for the change in close price from the previous day\n",
    "    d['PriceChange'] = d['Close'] - d['PrevClose']\n",
    "    \n",
    "    print(d.head())"
   ]
  },
  {
   "cell_type": "code",
   "execution_count": 17,
   "metadata": {},
   "outputs": [
    {
     "name": "stdout",
     "output_type": "stream",
     "text": [
      "Open           0\n",
      "High           0\n",
      "Low            0\n",
      "Close          0\n",
      "Adj Close      0\n",
      "Volume         0\n",
      "PrevClose      1\n",
      "PriceChange    1\n",
      "dtype: int64\n",
      "Open           0\n",
      "High           0\n",
      "Low            0\n",
      "Close          0\n",
      "Adj Close      0\n",
      "Volume         0\n",
      "PrevClose      1\n",
      "PriceChange    1\n",
      "dtype: int64\n",
      "Open           0\n",
      "High           0\n",
      "Low            0\n",
      "Close          0\n",
      "Adj Close      0\n",
      "Volume         0\n",
      "PrevClose      1\n",
      "PriceChange    1\n",
      "dtype: int64\n",
      "Open           0\n",
      "High           0\n",
      "Low            0\n",
      "Close          0\n",
      "Adj Close      0\n",
      "Volume         0\n",
      "PrevClose      1\n",
      "PriceChange    1\n",
      "dtype: int64\n",
      "Open           0\n",
      "High           0\n",
      "Low            0\n",
      "Close          0\n",
      "Adj Close      0\n",
      "Volume         0\n",
      "PrevClose      1\n",
      "PriceChange    1\n",
      "dtype: int64\n"
     ]
    }
   ],
   "source": [
    "# Check for missing values\n",
    "for d in dta:\n",
    "    print(d.isnull().sum())\n",
    "   \n",
    "    # This propagates the last valid observation forward to next valid.\n",
    "    d.fillna(method='ffill', inplace=True)"
   ]
  },
  {
   "cell_type": "code",
   "execution_count": 20,
   "metadata": {},
   "outputs": [],
   "source": [
    "# Define the size of the test set\n",
    "test_size = 0.2  # 20% of the data\n",
    "\n",
    "def split_data(data, test_size):\n",
    "    '''\n",
    "    This function takes the data and divides it into test and train datasets\n",
    "    ----------------\n",
    "    Inputs:\n",
    "    data: pandas df\n",
    "    test_size: float\n",
    "    -----------------\n",
    "    Outputs:\n",
    "    train_data: pandas df\n",
    "    test_data: pandas df\n",
    "    '''\n",
    "    \n",
    "    # Calculate the index at which to split the data\n",
    "    split_idx = int(len(data) * (1 - test_size))\n",
    "\n",
    "    # Split the data\n",
    "    train_data = data[:split_idx]\n",
    "    test_data = data[split_idx:]\n",
    "\n",
    "\n",
    "    return (train_data, test_data)\n"
   ]
  },
  {
   "cell_type": "code",
   "execution_count": null,
   "metadata": {},
   "outputs": [],
   "source": [
    "apple_dta_train, apple_dta_test = split_data(apple_dta, test_size)\n",
    "meta_dta_train, meta_dta_test = split_data(meta_dta, test_size) \n",
    "nike_dta_train, nike_dta_test = split_data(nike_dta, test_size) \n",
    "smp500_dta_train, smp500_dta_test = split_data(smp500_dta, test_size)  \n",
    "vanguard_dta_train, vanguard_dta_test = split_data(vanguard_dta, test_size) "
   ]
  }
 ],
 "metadata": {
  "kernelspec": {
   "display_name": "Python 3",
   "language": "python",
   "name": "python3"
  },
  "language_info": {
   "codemirror_mode": {
    "name": "ipython",
    "version": 3
   },
   "file_extension": ".py",
   "mimetype": "text/x-python",
   "name": "python",
   "nbconvert_exporter": "python",
   "pygments_lexer": "ipython3",
   "version": "3.10.6"
  },
  "orig_nbformat": 4
 },
 "nbformat": 4,
 "nbformat_minor": 2
}
